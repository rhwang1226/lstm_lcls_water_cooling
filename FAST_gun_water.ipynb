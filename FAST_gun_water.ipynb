{
 "cells": [
  {
   "cell_type": "code",
   "execution_count": null,
   "id": "7b5e87ce-bd4d-4668-ae90-61555e43419d",
   "metadata": {},
   "outputs": [],
   "source": []
  },
  {
   "cell_type": "code",
   "execution_count": 171,
   "id": "b352c58f-97ad-41b7-9f49-546c57f07f1a",
   "metadata": {},
   "outputs": [],
   "source": [
    "import numpy as np\n",
    "import matplotlib.pyplot as plt"
   ]
  },
  {
   "cell_type": "code",
   "execution_count": 209,
   "id": "d4496bb0-bc0b-4c87-b9a8-c2db48dcb02d",
   "metadata": {},
   "outputs": [],
   "source": [
    "f = open('../Downloads/gundata_1128/guntest_1128_1.txt', 'r')"
   ]
  },
  {
   "cell_type": "code",
   "execution_count": 210,
   "id": "4d7cf1e5-af3e-477c-b53e-8102acb734c5",
   "metadata": {},
   "outputs": [],
   "source": [
    "f2 = open('../Downloads/gundata_1128/gunpower_1128_1.txt', 'r')"
   ]
  },
  {
   "cell_type": "code",
   "execution_count": 211,
   "id": "79fef43e-9cb4-4a13-adab-7496a3737582",
   "metadata": {},
   "outputs": [],
   "source": [
    "content = f.read()\n",
    "content2 = f2.read()"
   ]
  },
  {
   "cell_type": "code",
   "execution_count": null,
   "id": "554ca2ca-9637-4647-a82d-dadfdbe825d1",
   "metadata": {},
   "outputs": [],
   "source": []
  },
  {
   "cell_type": "code",
   "execution_count": 212,
   "id": "1d2759ff-74a1-43f0-9e97-d1bc9745f779",
   "metadata": {},
   "outputs": [],
   "source": [
    "data = content[55::]\n",
    "data2 = content2[18::]"
   ]
  },
  {
   "cell_type": "code",
   "execution_count": null,
   "id": "239d0feb-776f-4569-83d5-626964ac270e",
   "metadata": {},
   "outputs": [],
   "source": []
  },
  {
   "cell_type": "code",
   "execution_count": 213,
   "id": "65021549-10b3-4174-acaa-ed1854cccd98",
   "metadata": {},
   "outputs": [],
   "source": [
    "res = list(map(str.strip, data.split(',')))\n",
    "res2 = list(map(str.strip, data2.split(',')))"
   ]
  },
  {
   "cell_type": "code",
   "execution_count": 235,
   "id": "8af61b8c-dc82-4cb8-9bad-12844260eabf",
   "metadata": {},
   "outputs": [
    {
     "data": {
      "text/plain": [
       "86887"
      ]
     },
     "execution_count": 235,
     "metadata": {},
     "output_type": "execute_result"
    }
   ],
   "source": [
    "len(res)"
   ]
  },
  {
   "cell_type": "code",
   "execution_count": 216,
   "id": "e85d6e25-4fb4-4377-acc0-f8e5d47dab60",
   "metadata": {},
   "outputs": [],
   "source": [
    "data_list = ['WGTCAVT','WGTCAV','WGFCTLT','WGFCTL','WGFLWT','WGFLW']\n",
    "# this is: \n",
    "#1. the time for the Cavity temp\n",
    "#2. the Cavity temp\n",
    "#3. the time for the Flow Valve\n",
    "#4. the Flow Valve\n",
    "#5. the time for the Flow Rate\n",
    "#6. the Flow Rate\n",
    "data_list2 = [\"GCVFPMT\",\"GCVFPM\"]\n",
    "#7. the gun forward power time\n",
    "#8. the gun forward power"
   ]
  },
  {
   "cell_type": "code",
   "execution_count": 217,
   "id": "f151406f-e12b-4a8a-b5ae-3a960f42ea8f",
   "metadata": {},
   "outputs": [],
   "source": [
    "# checking the parts of the file"
   ]
  },
  {
   "cell_type": "code",
   "execution_count": 218,
   "id": "4a1e1393-8b4b-4abf-b932-6c0eb563edf8",
   "metadata": {},
   "outputs": [
    {
     "data": {
      "text/plain": [
       "('0.0000', '42.9920', '0.0000', '19.0326', '0.0000', '3.5872')"
      ]
     },
     "execution_count": 218,
     "metadata": {},
     "output_type": "execute_result"
    }
   ],
   "source": [
    "res[0], res[1], res[2],res[3],res[4],res[5]"
   ]
  },
  {
   "cell_type": "code",
   "execution_count": 219,
   "id": "9ab3d685-25bd-4bbc-8420-b90b0a80296d",
   "metadata": {},
   "outputs": [
    {
     "data": {
      "text/plain": [
       "('0.0003', '42.9920', '0.0003', '19.0539', '0.0003', '3.5827')"
      ]
     },
     "execution_count": 219,
     "metadata": {},
     "output_type": "execute_result"
    }
   ],
   "source": [
    "res[0+6], res[1+6], res[2+6],res[3+6],res[4+6],res[5+6]"
   ]
  },
  {
   "cell_type": "code",
   "execution_count": 237,
   "id": "f2df0942-0aa1-4828-ad9e-180b87ca0744",
   "metadata": {},
   "outputs": [
    {
     "data": {
      "text/plain": [
       "('3.9998', '42.9920', '3.9998', '14.4045', '3.9998', '2.7641')"
      ]
     },
     "execution_count": 237,
     "metadata": {},
     "output_type": "execute_result"
    }
   ],
   "source": [
    "res[-7], res[-6], res[-5],res[-4],res[-3],res[-2]"
   ]
  },
  {
   "cell_type": "code",
   "execution_count": 245,
   "id": "956fe74e-3fd6-43ec-99b7-a95058422461",
   "metadata": {},
   "outputs": [
    {
     "data": {
      "text/plain": [
       "('', '')"
      ]
     },
     "execution_count": 245,
     "metadata": {},
     "output_type": "execute_result"
    }
   ],
   "source": [
    "res[-1], res2[-1] #last cells are empty"
   ]
  },
  {
   "cell_type": "code",
   "execution_count": 246,
   "id": "1288ef3b-0946-4864-bd48-ee3629ead524",
   "metadata": {},
   "outputs": [],
   "source": [
    "res=res[0:-1]\n",
    "res2=res2[0:-1]"
   ]
  },
  {
   "cell_type": "code",
   "execution_count": 250,
   "id": "c13ba21a-a144-4b07-b25c-eb595146f5d8",
   "metadata": {},
   "outputs": [],
   "source": [
    "lenres1 = int(len(res)/6)\n",
    "lenres2 = int(len(res2)/2)"
   ]
  },
  {
   "cell_type": "code",
   "execution_count": 257,
   "id": "6ee87806-4b13-4f12-977b-2c6ce867ac10",
   "metadata": {},
   "outputs": [
    {
     "data": {
      "text/plain": [
       "(14481, 14470)"
      ]
     },
     "execution_count": 257,
     "metadata": {},
     "output_type": "execute_result"
    }
   ],
   "source": [
    "lenres1, lenres2 # the times will need to be aligned"
   ]
  },
  {
   "cell_type": "code",
   "execution_count": 252,
   "id": "e6171701-a96c-49c3-a1ba-d16d8249708a",
   "metadata": {},
   "outputs": [],
   "source": [
    "# putting it into a numpy file and converting to numbers from strings\n",
    "data1 = np.zeros((lenres1,6))\n",
    "j=0\n",
    "for i in range(0, lenres1):\n",
    "    data1[i,:]= res[j],res[j+1],res[j+2],res[j+3],res[j+4],res[j+5]\n",
    "    j=j+6\n",
    "\n",
    "    \n",
    "# putting it into a numpy file and converting to numbers from strings\n",
    "data2 = np.zeros((lenres2,2))\n",
    "j=0\n",
    "for i in range(0, lenres2):\n",
    "    data2[i,:]= res2[j],res2[j+1]\n",
    "    j=j+2\n",
    "    "
   ]
  },
  {
   "cell_type": "code",
   "execution_count": 253,
   "id": "bd5b3498-a5fd-4ccd-9ba7-e454e44495ca",
   "metadata": {},
   "outputs": [
    {
     "data": {
      "image/png": "[encoded data removed]",
      "text/plain": [
       "<Figure size 432x288 with 1 Axes>"
      ]
     },
     "metadata": {
      "needs_background": "light"
     },
     "output_type": "display_data"
    }
   ],
   "source": [
    "plt.plot(data1[:,1],'.')\n",
    "plt.plot(data1[:,3],'.')\n",
    "plt.plot(data1[:,5],'.')\n",
    "plt.show()"
   ]
  },
  {
   "cell_type": "code",
   "execution_count": 254,
   "id": "6d7cc81b-9acb-4d06-b254-c23ab791e28b",
   "metadata": {},
   "outputs": [
    {
     "data": {
      "image/png": "[encoded data removed]",
      "text/plain": [
       "<Figure size 432x288 with 1 Axes>"
      ]
     },
     "metadata": {
      "needs_background": "light"
     },
     "output_type": "display_data"
    }
   ],
   "source": [
    "plt.plot(data1[2000:4000,1],'.')\n",
    "plt.plot(data1[2000:4000,3],'.')\n",
    "plt.plot(data1[2000:4000,5],'.')\n",
    "plt.legend(['WGTCAV (deg C)','WGFCTL(% open)','WGFLW'])\n",
    "plt.show()"
   ]
  },
  {
   "cell_type": "code",
   "execution_count": 255,
   "id": "7b3138b7-535a-4826-a39c-840bd4393771",
   "metadata": {},
   "outputs": [
    {
     "data": {
      "text/plain": [
       "((14470, 2), (14481, 6))"
      ]
     },
     "execution_count": 255,
     "metadata": {},
     "output_type": "execute_result"
    }
   ],
   "source": [
    "data2.shape, data1.shape"
   ]
  },
  {
   "cell_type": "code",
   "execution_count": 256,
   "id": "1eee5c4c-7981-4f61-b252-7dabfc72ece5",
   "metadata": {},
   "outputs": [
    {
     "data": {
      "image/png": "[encoded data removed]",
      "text/plain": [
       "<Figure size 432x288 with 1 Axes>"
      ]
     },
     "metadata": {
      "needs_background": "light"
     },
     "output_type": "display_data"
    }
   ],
   "source": [
    "plt.plot(data2[:,1],'.')\n",
    "plt.legend([\"GCVFPM\"])\n",
    "plt.show()"
   ]
  },
  {
   "cell_type": "code",
   "execution_count": null,
   "id": "69a82b23-492c-4514-b188-c8e38047d6d0",
   "metadata": {},
   "outputs": [],
   "source": [
    "\n",
    "#  Heater setting N:WGHPWR is setting to 6.2kW all the time\n",
    "#  WGT02 gun supply temp is at 40.9+-0.2 degree. That doesn’t change even when gun is on\n",
    "#  WGT01 is LCW supply temp is sitting at 32 degree"
   ]
  },
  {
   "cell_type": "code",
   "execution_count": 271,
   "id": "defbb91b-8f74-4e59-a1d7-afffa1782e5b",
   "metadata": {},
   "outputs": [],
   "source": [
    "#Steps:\n",
    "#    1. align the values by the timestamps (see below there's a difference in the two files)\n",
    "#    2. put WGFCTL, WGFLW, GCVFPM in X input data \n",
    "#    3. make input data the same size for the heater power (N:WGHPWR) above,\n",
    "#      which was constant 6.2kW for this whole data set; add to X input data\n",
    "#    4. do the same as 3 but for the LCW supply temperature (32 degrees); add to X input data\n",
    "#    5. put WGTCAV in Y output data\n",
    "#    6. train LSTM\n"
   ]
  },
  {
   "cell_type": "code",
   "execution_count": 267,
   "id": "3afad0ed-95cb-4cd1-8877-6e03533a9bc4",
   "metadata": {},
   "outputs": [
    {
     "data": {
      "text/plain": [
       "[<matplotlib.lines.Line2D at 0x7f876b10a220>]"
      ]
     },
     "execution_count": 267,
     "metadata": {},
     "output_type": "execute_result"
    },
    {
     "data": {
      "image/png": "[encoded data removed]",
      "text/plain": [
       "<Figure size 432x288 with 1 Axes>"
      ]
     },
     "metadata": {
      "needs_background": "light"
     },
     "output_type": "display_data"
    }
   ],
   "source": [
    "plt.plot(data2[1000:1010,0])\n",
    "plt.plot(data1[1000:1010,0])"
   ]
  },
  {
   "cell_type": "code",
   "execution_count": null,
   "id": "87fd1959-5486-44fa-9302-587fbc861528",
   "metadata": {},
   "outputs": [],
   "source": []
  },
  {
   "cell_type": "code",
   "execution_count": null,
   "id": "e28d2e76-17b6-4f33-abac-89aa1ffc85a1",
   "metadata": {},
   "outputs": [],
   "source": []
  }
 ],
 "metadata": {
  "kernelspec": {
   "display_name": "Python 3 (ipykernel)",
   "language": "python",
   "name": "python3"
  },
  "language_info": {
   "codemirror_mode": {
    "name": "ipython",
    "version": 3
   },
   "file_extension": ".py",
   "mimetype": "text/x-python",
   "name": "python",
   "nbconvert_exporter": "python",
   "pygments_lexer": "ipython3",
   "version": "3.9.7"
  }
 },
 "nbformat": 4,
 "nbformat_minor": 5
}
